{
  "nbformat": 4,
  "nbformat_minor": 0,
  "metadata": {
    "colab": {
      "provenance": [],
      "authorship_tag": "ABX9TyNDbLIFZtvl1UxjWCCuh2DK",
      "include_colab_link": true
    },
    "kernelspec": {
      "name": "python3",
      "display_name": "Python 3"
    },
    "language_info": {
      "name": "python"
    },
    "gpuClass": "standard"
  },
  "cells": [
    {
      "cell_type": "markdown",
      "metadata": {
        "id": "view-in-github",
        "colab_type": "text"
      },
      "source": [
        "<a href=\"https://colab.research.google.com/github/ketaris/c7082_Project_KT/blob/main/c7082_KT_notebook.ipynb\" target=\"_parent\"><img src=\"https://colab.research.google.com/assets/colab-badge.svg\" alt=\"Open In Colab\"/></a>"
      ]
    },
    {
      "cell_type": "markdown",
      "source": [
        "# 224038_Katie_Taris_c7082_Project\n",
        "January 18, 2023"
      ],
      "metadata": {
        "id": "xVC3rwsloZ1d"
      }
    },
    {
      "cell_type": "markdown",
      "source": [
        "GitHub Repo: https://github.com/ketaris/c7082_Project_KT\n",
        "\n",
        "Data Source: https://www.kaggle.com/datasets/tr1gg3rtrash/yoga-posture-dataset"
      ],
      "metadata": {
        "id": "8nv0BvKVotPC"
      }
    },
    {
      "cell_type": "markdown",
      "source": [
        "## 01 BACKGROUND\n",
        "\n",
        "One of the top conditions causing death and disease in humans is cardiovascular disease (Hartley et al., 2014). In addition to absence of exercise, heavy smoking, excessive alcohol and poor diet, a stressful lifestyle can also contribute to increased risk of cardiovascular disease (Hartley et al., 2014). Tools which can counteract these risk factors such as increasing exercise and quitting smoking could be useful to implement for all ages to avoid disease. One tool that could be used by many is yoga, as not only does it provide a form of exercise, but also aides in stress reduction and can be beneficial for hypertension (Hartley et al., 2014). \n",
        "The practice of yoga is now being researched in Mind-Body Medicine, which is an approach using many forms of interventions before or during illness (Matko et al., 2022). Research is ongoing to determine what kind of people benefit most from certain types of treatments, and if specific treatments should be assigned based on personality traits (Matko et al., 2022). While the benefits of yoga prove interesting, the next challenge is for people to fit the practice into their daily routines. Flexibility, both in time and location, helps the participant to complete yoga when convenient, but independent practice does not provide feedback on body alignment and positioning (Gajbhiye et al., 2022). Through the detection of human joints and their relative positions, computer vision could offer a potential solution to yoga practitioners. Maintaining the benefits of independent yoga practice with guided assistance to ensure correct positioning could improve yoga performance and reduce the risk of injury (Gajbhiye et al., 2022). The goal of this report is to evaluate computer vision techniques and their strengths and weaknesses in correctly identifying yoga poses with an introductory dataset. "
      ],
      "metadata": {
        "id": "zRA4oPxfpKbK"
      }
    },
    {
      "cell_type": "markdown",
      "source": [
        "## 02 METHODS"
      ],
      "metadata": {
        "id": "X6hNuLxqpzhs"
      }
    },
    {
      "cell_type": "markdown",
      "source": [
        "Images of different yoga poses within 5 classes were used for the evaluation. \n",
        "The data source was: www.kaggle.com/datasets/tr1gg3rtrash/yoga-posture-dataset.\n",
        "The images had variations within them, including different environments, different levels of zoom, and contained a mixture of real-life photos and computer generated images. The yogis were wearing different types and colours of clothing. \n",
        "Tensorflow Keras was used, looking at a base model and some additions, as well as a YOLOv5 model. In both models there was the step of training with training data, followed by validation with validation data. "
      ],
      "metadata": {
        "id": "ic4IFcbw7OoJ"
      }
    },
    {
      "cell_type": "markdown",
      "source": [
        "Methods Overview:\n",
        "\n",
        "*   2.1   Tensorflow Keras \n",
        "\n",
        "\n",
        "*   2.1.1 Pretrained model - MobileNetv2\n",
        "\n",
        "*   2.1.2 Custom Convnet\n",
        "\n",
        "*   2.1.3 Data Augmentation\n",
        "\n",
        "\n",
        "\n",
        "*   2.2   YOLOv5 "
      ],
      "metadata": {
        "id": "eRKiU0lRs44M"
      }
    },
    {
      "cell_type": "markdown",
      "source": [
        "### 2.1 Tensorflow Keras"
      ],
      "metadata": {
        "id": "dRFlp5m1uMKq"
      }
    },
    {
      "cell_type": "markdown",
      "source": [
        "###2.1.1 Pretrained model - MobileNetv2"
      ],
      "metadata": {
        "id": "xVrm5VxMUyWd"
      }
    },
    {
      "cell_type": "markdown",
      "source": [
        "Pretrained models are very popular and efficient in machine learning. A common model is VGG16 with 16 layers. There is also a VGG19. Here a model called MobileNetv2 was used, which is 32 times smaller than VGG16. It was noted that the pretrained model ran much faster than the other models. "
      ],
      "metadata": {
        "id": "QgovxiN6-kQd"
      }
    },
    {
      "cell_type": "code",
      "execution_count": null,
      "metadata": {
        "colab": {
          "base_uri": "https://localhost:8080/"
        },
        "id": "6gL0yufAZyPq",
        "outputId": "d03ab01c-3ba3-4696-c68c-fe5a60b66932"
      },
      "outputs": [
        {
          "output_type": "stream",
          "name": "stdout",
          "text": [
            "Cloning into 'Yoga'...\n",
            "remote: Enumerating objects: 4335, done.\u001b[K\n",
            "remote: Counting objects: 100% (1448/1448), done.\u001b[K\n",
            "remote: Compressing objects: 100% (1340/1340), done.\u001b[K\n",
            "remote: Total 4335 (delta 91), reused 1429 (delta 77), pack-reused 2887\u001b[K\n",
            "Receiving objects: 100% (4335/4335), 662.78 MiB | 35.76 MiB/s, done.\n",
            "Resolving deltas: 100% (189/189), done.\n"
          ]
        }
      ],
      "source": [
        "!git clone https://github.com/ketaris/c7082_Project_KT.git Yoga\n",
        "\n",
        "# setup for images\n",
        "from IPython.display import Image"
      ]
    },
    {
      "cell_type": "code",
      "source": [
        "# COLAB: directory\n",
        "%cd /content/Yoga/data/Yoga_images"
      ],
      "metadata": {
        "colab": {
          "base_uri": "https://localhost:8080/"
        },
        "id": "jeFOzPO4CiS6",
        "outputId": "54ad1777-90f4-4f22-85ad-d84808dea7f8"
      },
      "execution_count": null,
      "outputs": [
        {
          "output_type": "stream",
          "name": "stdout",
          "text": [
            "/content/Yoga/data/Yoga_images\n"
          ]
        }
      ]
    },
    {
      "cell_type": "code",
      "source": [
        "# Imports\n",
        "import os, warnings\n",
        "import matplotlib.pyplot as plt\n",
        "from matplotlib import gridspec\n",
        "\n",
        "import numpy as np\n",
        "import tensorflow as tf\n",
        "from tensorflow.keras.preprocessing import image_dataset_from_directory\n",
        "\n",
        "from tensorflow.keras.applications import MobileNetV2\n",
        "\n",
        "# Reproducability\n",
        "def set_seed(seed=31415):\n",
        "  np.random.seed(seed)\n",
        "  tf.random.set_seed(seed)\n",
        "  os.environ['PYTHONHASHSEED'] = str(seed)\n",
        "  os.environ['TF_DETERMINISTIC_OPS'] = '1'\n",
        "set_seed(31415)\n",
        "\n",
        "# Set Matplotlib defaults\n",
        "plt.rc('figure', autolayout=True)\n",
        "plt.rc('axes', labelweight='bold', labelsize='large',\n",
        "       titleweight='bold', titlesize=18, titlepad=10)\n",
        "plt.rc('image', cmap='magma')\n",
        "warnings.filterwarnings(\"ignore\")\n",
        "\n",
        "# Load training and validation sets\n",
        "ds_train_ = tf.keras.utils.image_dataset_from_directory(\n",
        "    '/content/Yoga/data/Yoga_images/train', \n",
        "    labels = 'inferred',\n",
        "    label_mode = 'categorical',\n",
        "    image_size = (128, 128), \n",
        "    interpolation = 'nearest',\n",
        "    batch_size = 64,\n",
        "    shuffle = True,\n",
        ")\n",
        "\n",
        "ds_valid_ = tf.keras.utils.image_dataset_from_directory(\n",
        "    '/content/Yoga/data/Yoga_images/valid',\n",
        "    labels = 'inferred',\n",
        "    label_mode='categorical',\n",
        "    image_size=(128, 128), \n",
        "    interpolation = 'nearest',\n",
        "    batch_size = 64,\n",
        "    shuffle = False,\n",
        ")\n",
        "\n",
        "# Data Pipeline\n",
        "def convert_to_float(image, label):\n",
        "  image = tf.image.convert_image_dtype(image, dtype=tf.float32)\n",
        "  return image, label\n",
        "\n",
        "AUTOTUNE = tf.data.experimental.AUTOTUNE\n",
        "ds_train = (\n",
        "      ds_train_\n",
        "      .map(convert_to_float)\n",
        "      .cache()\n",
        "      .prefetch(buffer_size=AUTOTUNE)\n",
        "  )\n",
        "ds_valid = (\n",
        "      ds_valid_\n",
        "      .map(convert_to_float)\n",
        "      .cache()\n",
        "      .prefetch(buffer_size=AUTOTUNE)\n",
        "  )\n"
      ],
      "metadata": {
        "colab": {
          "base_uri": "https://localhost:8080/"
        },
        "id": "LhsC6OeKfN6o",
        "outputId": "cccfa8b4-644f-4d28-a49c-7397eafd34c8"
      },
      "execution_count": null,
      "outputs": [
        {
          "output_type": "stream",
          "name": "stdout",
          "text": [
            "Found 208 files belonging to 5 classes.\n",
            "Found 204 files belonging to 5 classes.\n"
          ]
        }
      ]
    },
    {
      "cell_type": "code",
      "source": [
        "# Load pretrained model\n",
        "pretrained_model = tf.keras.applications.MobileNetV2(input_shape = (128, 128, 3), include_top = False,\n",
        "                                                     weights = 'imagenet', pooling = 'avg')\n",
        "pretrained_model.trainable = False"
      ],
      "metadata": {
        "id": "4BNSAm4hTEiC",
        "colab": {
          "base_uri": "https://localhost:8080/"
        },
        "outputId": "68cd6bdc-c352-47fa-e615-b7e114c037a1"
      },
      "execution_count": null,
      "outputs": [
        {
          "output_type": "stream",
          "name": "stdout",
          "text": [
            "Downloading data from https://storage.googleapis.com/tensorflow/keras-applications/mobilenet_v2/mobilenet_v2_weights_tf_dim_ordering_tf_kernels_1.0_128_no_top.h5\n",
            "9406464/9406464 [==============================] - 0s 0us/step\n"
          ]
        }
      ]
    },
    {
      "cell_type": "code",
      "source": [
        "# Attach head\n",
        "from tensorflow import keras\n",
        "from tensorflow.keras import layers\n",
        "\n",
        "model = keras.Sequential([\n",
        "      pretrained_model,\n",
        "      layers.Flatten(),\n",
        "      layers.Dense(256, activation = 'relu'),\n",
        "      layers.Dense(5, activation = 'softmax')\n",
        "  ])\n"
      ],
      "metadata": {
        "id": "TyjobJRx0c_H"
      },
      "execution_count": null,
      "outputs": []
    },
    {
      "cell_type": "code",
      "source": [
        "# Train the model\n",
        "\n",
        "model.compile(\n",
        "    optimizer = 'adam',\n",
        "    loss = 'categorical_crossentropy',\n",
        "    metrics = ['categorical_accuracy'],\n",
        ")\n",
        "\n",
        "history = model.fit(\n",
        "    ds_train,\n",
        "    validation_data = ds_valid,\n",
        "    epochs = 30,\n",
        "    verbose = 0,\n",
        ")\n",
        "\n",
        "import pandas as pd\n",
        "import matplotlib.pyplot as plt\n",
        "\n",
        "\n",
        "history_frame = pd.DataFrame(history.history)\n",
        "history_frame.loc[:, ['loss', 'val_loss']].plot()\n",
        "history_frame.loc[:, ['categorical_accuracy', 'val_categorical_accuracy']].plot();\n",
        "\n",
        "plt.savefig('Basic_Tensorflow_output.png')"
      ],
      "metadata": {
        "id": "F0WxxjEp1W0b",
        "colab": {
          "base_uri": "https://localhost:8080/",
          "height": 577
        },
        "outputId": "81781854-53a9-415e-c231-80098cab500d"
      },
      "execution_count": null,
      "outputs": [
        {
          "output_type": "display_data",
          "data": {
            "text/plain": [
              "<Figure size 432x288 with 1 Axes>"
            ],
            "image/png": "[encoded data removed]"
          },
          "metadata": {
            "needs_background": "light"
          }
        },
        {
          "output_type": "display_data",
          "data": {
            "text/plain": [
              "<Figure size 432x288 with 1 Axes>"
            ],
            "image/png": "[encoded data removed]"
          },
          "metadata": {
            "needs_background": "light"
          }
        }
      ]
    },
    {
      "cell_type": "markdown",
      "source": [
        "###2.1.2 Custom Convnet"
      ],
      "metadata": {
        "id": "D1etqgubU5j_"
      }
    },
    {
      "cell_type": "markdown",
      "source": [
        "Using layers of convolution and pooling can be used to start a model from scratch. The model has much learning to go through, compared to a pretrained model, including adjusting its weights. This model took longer to compute than the pretrained model. "
      ],
      "metadata": {
        "id": "VVgGKNVXALic"
      }
    },
    {
      "cell_type": "code",
      "source": [
        "# This uses layers of convolution and pooling instead of the pretrained base\n",
        "\n",
        "# Imports\n",
        "import os, warnings\n",
        "import matplotlib.pyplot as plt\n",
        "from matplotlib import gridspec\n",
        "\n",
        "import numpy as np\n",
        "import tensorflow as tf\n",
        "from tensorflow.keras.preprocessing import image_dataset_from_directory\n",
        "\n",
        "# Reproducability\n",
        "def set_seed(seed=31415):\n",
        "  np.random.seed(seed)\n",
        "  tf.random.set_seed(seed)\n",
        "  os.environ['PYTHONHASHSEED'] = str(seed)\n",
        "  os.environ['TF_DETERMINISTIC_OPS'] = '1'\n",
        "set_seed()\n",
        "\n",
        "# Set Matplotlib defaults\n",
        "plt.rc('figure', autolayout=True)\n",
        "plt.rc('axes', labelweight='bold', labelsize='large',\n",
        "       titleweight='bold', titlesize=18, titlepad=10)\n",
        "plt.rc('image', cmap='magma')\n",
        "warnings.filterwarnings(\"ignore\") \n",
        "\n",
        "# Load training and validation sets\n",
        "ds_train_ = image_dataset_from_directory(\n",
        "     '/content/Yoga/data/Yoga_images/train',\n",
        "     labels=\"inferred\",\n",
        "     label_mode='categorical',\n",
        "     image_size=[128, 128],\n",
        "     interpolation='nearest',\n",
        "     batch_size=64,\n",
        "     shuffle=True,\n",
        ")\n",
        "\n",
        "ds_valid_ = image_dataset_from_directory(\n",
        "     '/content/Yoga/data/Yoga_images/valid',\n",
        "     labels=\"inferred\",\n",
        "     label_mode='categorical',\n",
        "     image_size=[128, 128],\n",
        "     interpolation='nearest',\n",
        "     batch_size=64,\n",
        "     shuffle=False,\n",
        ")\n",
        "\n",
        "# Data pipeline\n",
        "def convert_to_float(image, label):\n",
        "  image = tf.image.convert_image_dtype(image, dtype=tf.float32)\n",
        "  return image, label\n",
        "\n",
        "AUTOTUNE = tf.data.experimental.AUTOTUNE\n",
        "ds_train = (\n",
        "    ds_train_\n",
        "    .map(convert_to_float)\n",
        "    .cache()\n",
        "    .prefetch(buffer_size=AUTOTUNE)\n",
        ")\n",
        "ds_valid = (\n",
        "    ds_valid_\n",
        "    .map(convert_to_float)\n",
        "    .cache()\n",
        "    .prefetch(buffer_size=AUTOTUNE)\n",
        ")"
      ],
      "metadata": {
        "id": "LvDk5qPt6GEt",
        "colab": {
          "base_uri": "https://localhost:8080/"
        },
        "outputId": "48e5de3c-05bb-4382-a164-54c69e1c95be"
      },
      "execution_count": null,
      "outputs": [
        {
          "output_type": "stream",
          "name": "stdout",
          "text": [
            "Found 208 files belonging to 5 classes.\n",
            "Found 204 files belonging to 5 classes.\n"
          ]
        }
      ]
    },
    {
      "cell_type": "code",
      "source": [
        "# Define model\n",
        "# Using base of 3 layers of Conv2D and MaxPool together, with a head of flatten and 2 dense layers\n",
        "\n",
        "from tensorflow import keras\n",
        "from tensorflow.keras import layers\n",
        "\n",
        "model = keras.Sequential([\n",
        "    layers.Conv2D(filters=32, kernel_size=5, activation='relu', padding='same',\n",
        "                  input_shape=[128, 128, 3]),\n",
        "    layers.MaxPool2D(),\n",
        "layers.Conv2D(filters=64, kernel_size=3, activation='relu', padding='same'),\n",
        "    layers.MaxPool2D(),\n",
        "layers.Conv2D(filters=128, kernel_size=3, activation='relu', padding='same'),\n",
        "    layers.MaxPool2D(),\n",
        "    #Head\n",
        "    layers.Flatten(),\n",
        "    layers.Dense(units=256, activation=\"relu\"),\n",
        "    layers.Dense(units=5, activation=\"softmax\"),\n",
        "])\n",
        "model.summary()"
      ],
      "metadata": {
        "id": "tmySwlSnAkFa",
        "colab": {
          "base_uri": "https://localhost:8080/"
        },
        "outputId": "381a4f2f-b258-4134-b360-637ba36247cf"
      },
      "execution_count": null,
      "outputs": [
        {
          "output_type": "stream",
          "name": "stdout",
          "text": [
            "Model: \"sequential_2\"\n",
            "_________________________________________________________________\n",
            " Layer (type)                Output Shape              Param #   \n",
            "=================================================================\n",
            " conv2d_3 (Conv2D)           (None, 128, 128, 32)      2432      \n",
            "                                                                 \n",
            " max_pooling2d_3 (MaxPooling  (None, 64, 64, 32)       0         \n",
            " 2D)                                                             \n",
            "                                                                 \n",
            " conv2d_4 (Conv2D)           (None, 64, 64, 64)        18496     \n",
            "                                                                 \n",
            " max_pooling2d_4 (MaxPooling  (None, 32, 32, 64)       0         \n",
            " 2D)                                                             \n",
            "                                                                 \n",
            " conv2d_5 (Conv2D)           (None, 32, 32, 128)       73856     \n",
            "                                                                 \n",
            " max_pooling2d_5 (MaxPooling  (None, 16, 16, 128)      0         \n",
            " 2D)                                                             \n",
            "                                                                 \n",
            " flatten_2 (Flatten)         (None, 32768)             0         \n",
            "                                                                 \n",
            " dense_4 (Dense)             (None, 256)               8388864   \n",
            "                                                                 \n",
            " dense_5 (Dense)             (None, 5)                 1285      \n",
            "                                                                 \n",
            "=================================================================\n",
            "Total params: 8,484,933\n",
            "Trainable params: 8,484,933\n",
            "Non-trainable params: 0\n",
            "_________________________________________________________________\n"
          ]
        }
      ]
    },
    {
      "cell_type": "code",
      "source": [
        "# Train model\n",
        "import tensorflow as tf\n",
        "\n",
        "model.compile(\n",
        "    optimizer=tf.keras.optimizers.Adam(epsilon=0.01),\n",
        "    loss='categorical_crossentropy',\n",
        "    metrics=['categorical_accuracy']\n",
        ")\n",
        "\n",
        "history = model.fit(\n",
        "    ds_train,\n",
        "    validation_data=ds_valid,\n",
        "    epochs=40,\n",
        "    verbose=1\n",
        ")"
      ],
      "metadata": {
        "id": "JVSeu-YdCy8K",
        "colab": {
          "base_uri": "https://localhost:8080/"
        },
        "outputId": "8d0643c1-d84a-4ed4-c34c-0e5aa434c488"
      },
      "execution_count": null,
      "outputs": [
        {
          "output_type": "stream",
          "name": "stdout",
          "text": [
            "Epoch 1/40\n",
            "4/4 [==============================] - 13s 3s/step - loss: 1.6097 - categorical_accuracy: 0.1971 - val_loss: 1.6007 - val_categorical_accuracy: 0.2843\n",
            "Epoch 2/40\n",
            "4/4 [==============================] - 10s 3s/step - loss: 1.5895 - categorical_accuracy: 0.2596 - val_loss: 1.5917 - val_categorical_accuracy: 0.2304\n",
            "Epoch 3/40\n",
            "4/4 [==============================] - 11s 3s/step - loss: 1.5778 - categorical_accuracy: 0.2260 - val_loss: 1.5861 - val_categorical_accuracy: 0.2304\n",
            "Epoch 4/40\n",
            "4/4 [==============================] - 11s 3s/step - loss: 1.5674 - categorical_accuracy: 0.2260 - val_loss: 1.5752 - val_categorical_accuracy: 0.2304\n",
            "Epoch 5/40\n",
            "4/4 [==============================] - 12s 3s/step - loss: 1.5503 - categorical_accuracy: 0.2404 - val_loss: 1.5615 - val_categorical_accuracy: 0.2745\n",
            "Epoch 6/40\n",
            "4/4 [==============================] - 10s 3s/step - loss: 1.5282 - categorical_accuracy: 0.3317 - val_loss: 1.5464 - val_categorical_accuracy: 0.3137\n",
            "Epoch 7/40\n",
            "4/4 [==============================] - 10s 3s/step - loss: 1.5003 - categorical_accuracy: 0.3942 - val_loss: 1.5282 - val_categorical_accuracy: 0.3235\n",
            "Epoch 8/40\n",
            "4/4 [==============================] - 10s 3s/step - loss: 1.4644 - categorical_accuracy: 0.4087 - val_loss: 1.5021 - val_categorical_accuracy: 0.3578\n",
            "Epoch 9/40\n",
            "4/4 [==============================] - 10s 3s/step - loss: 1.4139 - categorical_accuracy: 0.4952 - val_loss: 1.4638 - val_categorical_accuracy: 0.3922\n",
            "Epoch 10/40\n",
            "4/4 [==============================] - 10s 3s/step - loss: 1.3423 - categorical_accuracy: 0.6010 - val_loss: 1.4144 - val_categorical_accuracy: 0.4363\n",
            "Epoch 11/40\n",
            "4/4 [==============================] - 10s 3s/step - loss: 1.2412 - categorical_accuracy: 0.6394 - val_loss: 1.3592 - val_categorical_accuracy: 0.4510\n",
            "Epoch 12/40\n",
            "4/4 [==============================] - 10s 3s/step - loss: 1.1218 - categorical_accuracy: 0.6538 - val_loss: 1.3510 - val_categorical_accuracy: 0.4510\n",
            "Epoch 13/40\n",
            "4/4 [==============================] - 10s 3s/step - loss: 1.0368 - categorical_accuracy: 0.5865 - val_loss: 1.6197 - val_categorical_accuracy: 0.4118\n",
            "Epoch 14/40\n",
            "4/4 [==============================] - 10s 3s/step - loss: 1.1396 - categorical_accuracy: 0.5625 - val_loss: 2.3031 - val_categorical_accuracy: 0.3725\n",
            "Epoch 15/40\n",
            "4/4 [==============================] - 10s 3s/step - loss: 1.5423 - categorical_accuracy: 0.5048 - val_loss: 1.6596 - val_categorical_accuracy: 0.4314\n",
            "Epoch 16/40\n",
            "4/4 [==============================] - 12s 3s/step - loss: 1.0906 - categorical_accuracy: 0.5625 - val_loss: 1.3696 - val_categorical_accuracy: 0.4608\n",
            "Epoch 17/40\n",
            "4/4 [==============================] - 12s 3s/step - loss: 0.8729 - categorical_accuracy: 0.6875 - val_loss: 1.2817 - val_categorical_accuracy: 0.4804\n",
            "Epoch 18/40\n",
            "4/4 [==============================] - 10s 3s/step - loss: 0.8296 - categorical_accuracy: 0.7356 - val_loss: 1.2169 - val_categorical_accuracy: 0.5441\n",
            "Epoch 19/40\n",
            "4/4 [==============================] - 10s 3s/step - loss: 0.7030 - categorical_accuracy: 0.7837 - val_loss: 1.1943 - val_categorical_accuracy: 0.5098\n",
            "Epoch 20/40\n",
            "4/4 [==============================] - 10s 3s/step - loss: 0.6523 - categorical_accuracy: 0.8029 - val_loss: 1.2066 - val_categorical_accuracy: 0.5686\n",
            "Epoch 21/40\n",
            "4/4 [==============================] - 10s 3s/step - loss: 0.5376 - categorical_accuracy: 0.8702 - val_loss: 1.2287 - val_categorical_accuracy: 0.5343\n",
            "Epoch 22/40\n",
            "4/4 [==============================] - 10s 3s/step - loss: 0.5392 - categorical_accuracy: 0.8077 - val_loss: 1.2718 - val_categorical_accuracy: 0.5441\n",
            "Epoch 23/40\n",
            "4/4 [==============================] - 10s 3s/step - loss: 0.4324 - categorical_accuracy: 0.8990 - val_loss: 1.2454 - val_categorical_accuracy: 0.5686\n",
            "Epoch 24/40\n",
            "4/4 [==============================] - 10s 3s/step - loss: 0.4102 - categorical_accuracy: 0.8846 - val_loss: 1.3205 - val_categorical_accuracy: 0.5490\n",
            "Epoch 25/40\n",
            "4/4 [==============================] - 10s 3s/step - loss: 0.4054 - categorical_accuracy: 0.8606 - val_loss: 1.4447 - val_categorical_accuracy: 0.5637\n",
            "Epoch 26/40\n",
            "4/4 [==============================] - 10s 3s/step - loss: 0.4120 - categorical_accuracy: 0.8654 - val_loss: 1.3623 - val_categorical_accuracy: 0.5098\n",
            "Epoch 27/40\n",
            "4/4 [==============================] - 10s 3s/step - loss: 0.3235 - categorical_accuracy: 0.8990 - val_loss: 1.3553 - val_categorical_accuracy: 0.5882\n",
            "Epoch 28/40\n",
            "4/4 [==============================] - 10s 3s/step - loss: 0.2709 - categorical_accuracy: 0.9279 - val_loss: 1.3025 - val_categorical_accuracy: 0.5833\n",
            "Epoch 29/40\n",
            "4/4 [==============================] - 11s 3s/step - loss: 0.2176 - categorical_accuracy: 0.9519 - val_loss: 1.3979 - val_categorical_accuracy: 0.6029\n",
            "Epoch 30/40\n",
            "4/4 [==============================] - 10s 3s/step - loss: 0.2108 - categorical_accuracy: 0.9423 - val_loss: 1.2918 - val_categorical_accuracy: 0.5882\n",
            "Epoch 31/40\n",
            "4/4 [==============================] - 10s 3s/step - loss: 0.1804 - categorical_accuracy: 0.9567 - val_loss: 1.4327 - val_categorical_accuracy: 0.5931\n",
            "Epoch 32/40\n",
            "4/4 [==============================] - 10s 3s/step - loss: 0.1633 - categorical_accuracy: 0.9567 - val_loss: 1.3154 - val_categorical_accuracy: 0.6078\n",
            "Epoch 33/40\n",
            "4/4 [==============================] - 10s 3s/step - loss: 0.1189 - categorical_accuracy: 0.9808 - val_loss: 1.5128 - val_categorical_accuracy: 0.6127\n",
            "Epoch 34/40\n",
            "4/4 [==============================] - 10s 3s/step - loss: 0.1279 - categorical_accuracy: 0.9712 - val_loss: 1.3285 - val_categorical_accuracy: 0.6078\n",
            "Epoch 35/40\n",
            "4/4 [==============================] - 10s 3s/step - loss: 0.0894 - categorical_accuracy: 0.9808 - val_loss: 1.6987 - val_categorical_accuracy: 0.5784\n",
            "Epoch 36/40\n",
            "4/4 [==============================] - 10s 3s/step - loss: 0.1146 - categorical_accuracy: 0.9712 - val_loss: 1.3935 - val_categorical_accuracy: 0.6373\n",
            "Epoch 37/40\n",
            "4/4 [==============================] - 10s 3s/step - loss: 0.0768 - categorical_accuracy: 0.9856 - val_loss: 1.8934 - val_categorical_accuracy: 0.5441\n",
            "Epoch 38/40\n",
            "4/4 [==============================] - 10s 3s/step - loss: 0.1337 - categorical_accuracy: 0.9712 - val_loss: 1.4397 - val_categorical_accuracy: 0.6324\n",
            "Epoch 39/40\n",
            "4/4 [==============================] - 10s 3s/step - loss: 0.0684 - categorical_accuracy: 0.9904 - val_loss: 1.9155 - val_categorical_accuracy: 0.5637\n",
            "Epoch 40/40\n",
            "4/4 [==============================] - 10s 3s/step - loss: 0.1169 - categorical_accuracy: 0.9663 - val_loss: 1.6499 - val_categorical_accuracy: 0.6078\n"
          ]
        }
      ]
    },
    {
      "cell_type": "code",
      "source": [
        "import pandas as pd\n",
        "import matplotlib.pyplot as plt\n",
        "\n",
        "history_frame = pd.DataFrame(history.history)\n",
        "history_frame.loc[:, ['loss', 'val_loss']].plot()\n",
        "history_frame.loc[:, ['categorical_accuracy', 'val_categorical_accuracy']].plot();\n",
        "plt.savefig('Custom_convnet1.png')"
      ],
      "metadata": {
        "id": "7KFBy5oODP1P",
        "colab": {
          "base_uri": "https://localhost:8080/",
          "height": 577
        },
        "outputId": "7ed1fa37-b39c-4f09-84d9-e66678be9e84"
      },
      "execution_count": null,
      "outputs": [
        {
          "output_type": "display_data",
          "data": {
            "text/plain": [
              "<Figure size 432x288 with 1 Axes>"
            ],
            "image/png": "[encoded data removed]"
          },
          "metadata": {
            "needs_background": "light"
          }
        },
        {
          "output_type": "display_data",
          "data": {
            "text/plain": [
              "<Figure size 432x288 with 1 Axes>"
            ],
            "image/png": "[encoded data removed]"
          },
          "metadata": {
            "needs_background": "light"
          }
        }
      ]
    },
    {
      "cell_type": "code",
      "source": [
        "# Add more Conv2D layers to the model to see if it improves results\n",
        "\n",
        "from tensorflow import keras\n",
        "from tensorflow.keras import layers\n",
        "\n",
        "model = keras.Sequential([\n",
        "    layers.Conv2D(filters=32, kernel_size=3, activation='relu', padding='same',\n",
        "                  input_shape=[128, 128, 3]),\n",
        "    layers.MaxPool2D(),\n",
        "layers.Conv2D(filters=64, kernel_size=3, activation='relu', padding='same'),\n",
        "layers.Conv2D(filters=64, kernel_size=3, activation='relu', padding='same'),\n",
        "    layers.MaxPool2D(),\n",
        "layers.Conv2D(filters=128, kernel_size=3, activation='relu', padding='same'),\n",
        "layers.Conv2D(filters=128, kernel_size=3, activation='relu', padding='same'),\n",
        "layers.Conv2D(filters=128, kernel_size=3, activation='relu', padding='same'),\n",
        "    layers.MaxPool2D(),\n",
        "    #Head\n",
        "    layers.Flatten(),\n",
        "    layers.Dense(units=256, activation=\"relu\"),\n",
        "    layers.Dropout(0.2),\n",
        "    layers.Dense(units=5, activation=\"softmax\"),\n",
        "])\n",
        "model.summary()\n"
      ],
      "metadata": {
        "id": "vZKhU_6cEq82",
        "colab": {
          "base_uri": "https://localhost:8080/"
        },
        "outputId": "82d481da-e612-4f49-e175-3fc697e198af"
      },
      "execution_count": null,
      "outputs": [
        {
          "output_type": "stream",
          "name": "stdout",
          "text": [
            "Model: \"sequential_3\"\n",
            "_________________________________________________________________\n",
            " Layer (type)                Output Shape              Param #   \n",
            "=================================================================\n",
            " conv2d_6 (Conv2D)           (None, 128, 128, 32)      896       \n",
            "                                                                 \n",
            " max_pooling2d_6 (MaxPooling  (None, 64, 64, 32)       0         \n",
            " 2D)                                                             \n",
            "                                                                 \n",
            " conv2d_7 (Conv2D)           (None, 64, 64, 64)        18496     \n",
            "                                                                 \n",
            " conv2d_8 (Conv2D)           (None, 64, 64, 64)        36928     \n",
            "                                                                 \n",
            " max_pooling2d_7 (MaxPooling  (None, 32, 32, 64)       0         \n",
            " 2D)                                                             \n",
            "                                                                 \n",
            " conv2d_9 (Conv2D)           (None, 32, 32, 128)       73856     \n",
            "                                                                 \n",
            " conv2d_10 (Conv2D)          (None, 32, 32, 128)       147584    \n",
            "                                                                 \n",
            " conv2d_11 (Conv2D)          (None, 32, 32, 128)       147584    \n",
            "                                                                 \n",
            " max_pooling2d_8 (MaxPooling  (None, 16, 16, 128)      0         \n",
            " 2D)                                                             \n",
            "                                                                 \n",
            " flatten_3 (Flatten)         (None, 32768)             0         \n",
            "                                                                 \n",
            " dense_6 (Dense)             (None, 256)               8388864   \n",
            "                                                                 \n",
            " dropout (Dropout)           (None, 256)               0         \n",
            "                                                                 \n",
            " dense_7 (Dense)             (None, 5)                 1285      \n",
            "                                                                 \n",
            "=================================================================\n",
            "Total params: 8,815,493\n",
            "Trainable params: 8,815,493\n",
            "Non-trainable params: 0\n",
            "_________________________________________________________________\n"
          ]
        }
      ]
    },
    {
      "cell_type": "code",
      "source": [
        "# Train model with extra Conv2D layers\n",
        "import tensorflow as tf\n",
        "\n",
        "model.compile(\n",
        "    optimizer=tf.keras.optimizers.Adam(epsilon=0.01),\n",
        "    loss='categorical_crossentropy',\n",
        "    metrics=['categorical_accuracy']\n",
        ")\n",
        "\n",
        "history = model.fit(\n",
        "    ds_train,\n",
        "    validation_data=ds_valid,\n",
        "    epochs=40,\n",
        "    verbose=1\n",
        ")"
      ],
      "metadata": {
        "id": "fgnWv1GTHZwT",
        "colab": {
          "base_uri": "https://localhost:8080/"
        },
        "outputId": "cc591bb4-d9a9-43ef-bf3d-136f633068d2"
      },
      "execution_count": null,
      "outputs": [
        {
          "output_type": "stream",
          "name": "stdout",
          "text": [
            "Epoch 1/40\n",
            "4/4 [==============================] - 26s 6s/step - loss: 1.6092 - categorical_accuracy: 0.2163 - val_loss: 1.6090 - val_categorical_accuracy: 0.2108\n",
            "Epoch 2/40\n",
            "4/4 [==============================] - 24s 6s/step - loss: 1.6074 - categorical_accuracy: 0.2452 - val_loss: 1.6072 - val_categorical_accuracy: 0.2304\n",
            "Epoch 3/40\n",
            "4/4 [==============================] - 24s 6s/step - loss: 1.6042 - categorical_accuracy: 0.2548 - val_loss: 1.6051 - val_categorical_accuracy: 0.2206\n",
            "Epoch 4/40\n",
            "4/4 [==============================] - 25s 6s/step - loss: 1.6004 - categorical_accuracy: 0.2308 - val_loss: 1.6027 - val_categorical_accuracy: 0.2255\n",
            "Epoch 5/40\n",
            "4/4 [==============================] - 26s 6s/step - loss: 1.5979 - categorical_accuracy: 0.2260 - val_loss: 1.6005 - val_categorical_accuracy: 0.2304\n",
            "Epoch 6/40\n",
            "4/4 [==============================] - 24s 6s/step - loss: 1.5971 - categorical_accuracy: 0.2260 - val_loss: 1.5985 - val_categorical_accuracy: 0.2304\n",
            "Epoch 7/40\n",
            "4/4 [==============================] - 24s 6s/step - loss: 1.5930 - categorical_accuracy: 0.2260 - val_loss: 1.5964 - val_categorical_accuracy: 0.2304\n",
            "Epoch 8/40\n",
            "4/4 [==============================] - 24s 6s/step - loss: 1.5905 - categorical_accuracy: 0.2308 - val_loss: 1.5942 - val_categorical_accuracy: 0.2304\n",
            "Epoch 9/40\n",
            "4/4 [==============================] - 26s 7s/step - loss: 1.5871 - categorical_accuracy: 0.2260 - val_loss: 1.5915 - val_categorical_accuracy: 0.2304\n",
            "Epoch 10/40\n",
            "4/4 [==============================] - 24s 6s/step - loss: 1.5827 - categorical_accuracy: 0.2308 - val_loss: 1.5882 - val_categorical_accuracy: 0.2304\n",
            "Epoch 11/40\n",
            "4/4 [==============================] - 24s 6s/step - loss: 1.5773 - categorical_accuracy: 0.2260 - val_loss: 1.5840 - val_categorical_accuracy: 0.2402\n",
            "Epoch 12/40\n",
            "4/4 [==============================] - 24s 6s/step - loss: 1.5691 - categorical_accuracy: 0.2452 - val_loss: 1.5782 - val_categorical_accuracy: 0.2451\n",
            "Epoch 13/40\n",
            "4/4 [==============================] - 26s 7s/step - loss: 1.5586 - categorical_accuracy: 0.2452 - val_loss: 1.5698 - val_categorical_accuracy: 0.2549\n",
            "Epoch 14/40\n",
            "4/4 [==============================] - 24s 6s/step - loss: 1.5417 - categorical_accuracy: 0.2837 - val_loss: 1.5565 - val_categorical_accuracy: 0.2598\n",
            "Epoch 15/40\n",
            "4/4 [==============================] - 24s 6s/step - loss: 1.5167 - categorical_accuracy: 0.3558 - val_loss: 1.5336 - val_categorical_accuracy: 0.3137\n",
            "Epoch 16/40\n",
            "4/4 [==============================] - 24s 6s/step - loss: 1.4714 - categorical_accuracy: 0.4183 - val_loss: 1.4951 - val_categorical_accuracy: 0.3578\n",
            "Epoch 17/40\n",
            "4/4 [==============================] - 26s 6s/step - loss: 1.4192 - categorical_accuracy: 0.4808 - val_loss: 1.4381 - val_categorical_accuracy: 0.4167\n",
            "Epoch 18/40\n",
            "4/4 [==============================] - 24s 6s/step - loss: 1.3137 - categorical_accuracy: 0.5096 - val_loss: 1.4094 - val_categorical_accuracy: 0.4265\n",
            "Epoch 19/40\n",
            "4/4 [==============================] - 24s 6s/step - loss: 1.2646 - categorical_accuracy: 0.4952 - val_loss: 2.0781 - val_categorical_accuracy: 0.3382\n",
            "Epoch 20/40\n",
            "4/4 [==============================] - 26s 7s/step - loss: 1.8854 - categorical_accuracy: 0.3221 - val_loss: 1.6029 - val_categorical_accuracy: 0.4216\n",
            "Epoch 21/40\n",
            "4/4 [==============================] - 24s 6s/step - loss: 1.5102 - categorical_accuracy: 0.4038 - val_loss: 1.4978 - val_categorical_accuracy: 0.3775\n",
            "Epoch 22/40\n",
            "4/4 [==============================] - 24s 6s/step - loss: 1.4726 - categorical_accuracy: 0.4327 - val_loss: 1.5362 - val_categorical_accuracy: 0.3088\n",
            "Epoch 23/40\n",
            "4/4 [==============================] - 24s 6s/step - loss: 1.4930 - categorical_accuracy: 0.4615 - val_loss: 1.5198 - val_categorical_accuracy: 0.4167\n",
            "Epoch 24/40\n",
            "4/4 [==============================] - 24s 6s/step - loss: 1.4485 - categorical_accuracy: 0.5865 - val_loss: 1.4761 - val_categorical_accuracy: 0.4216\n",
            "Epoch 25/40\n",
            "4/4 [==============================] - 26s 6s/step - loss: 1.3692 - categorical_accuracy: 0.5913 - val_loss: 1.4088 - val_categorical_accuracy: 0.3775\n",
            "Epoch 26/40\n",
            "4/4 [==============================] - 24s 6s/step - loss: 1.2715 - categorical_accuracy: 0.5385 - val_loss: 1.3061 - val_categorical_accuracy: 0.4412\n",
            "Epoch 27/40\n",
            "4/4 [==============================] - 24s 6s/step - loss: 1.1030 - categorical_accuracy: 0.6058 - val_loss: 1.2433 - val_categorical_accuracy: 0.4706\n",
            "Epoch 28/40\n",
            "4/4 [==============================] - 24s 6s/step - loss: 0.9723 - categorical_accuracy: 0.6106 - val_loss: 1.2801 - val_categorical_accuracy: 0.4951\n",
            "Epoch 29/40\n",
            "4/4 [==============================] - 24s 6s/step - loss: 0.9574 - categorical_accuracy: 0.6490 - val_loss: 1.4938 - val_categorical_accuracy: 0.4657\n",
            "Epoch 30/40\n",
            "4/4 [==============================] - 26s 6s/step - loss: 1.0514 - categorical_accuracy: 0.6202 - val_loss: 1.3799 - val_categorical_accuracy: 0.4657\n",
            "Epoch 31/40\n",
            "4/4 [==============================] - 24s 6s/step - loss: 0.9773 - categorical_accuracy: 0.6298 - val_loss: 1.1904 - val_categorical_accuracy: 0.5686\n",
            "Epoch 32/40\n",
            "4/4 [==============================] - 24s 6s/step - loss: 0.8775 - categorical_accuracy: 0.7452 - val_loss: 1.1603 - val_categorical_accuracy: 0.5343\n",
            "Epoch 33/40\n",
            "4/4 [==============================] - 24s 6s/step - loss: 0.7489 - categorical_accuracy: 0.7596 - val_loss: 1.2789 - val_categorical_accuracy: 0.5441\n",
            "Epoch 34/40\n",
            "4/4 [==============================] - 26s 7s/step - loss: 0.6728 - categorical_accuracy: 0.7740 - val_loss: 1.4031 - val_categorical_accuracy: 0.5000\n",
            "Epoch 35/40\n",
            "4/4 [==============================] - 24s 6s/step - loss: 0.7823 - categorical_accuracy: 0.7596 - val_loss: 1.3386 - val_categorical_accuracy: 0.5441\n",
            "Epoch 36/40\n",
            "4/4 [==============================] - 24s 6s/step - loss: 0.6737 - categorical_accuracy: 0.7788 - val_loss: 1.2886 - val_categorical_accuracy: 0.5343\n",
            "Epoch 37/40\n",
            "4/4 [==============================] - 24s 6s/step - loss: 0.6118 - categorical_accuracy: 0.8221 - val_loss: 1.1419 - val_categorical_accuracy: 0.6029\n",
            "Epoch 38/40\n",
            "4/4 [==============================] - 24s 6s/step - loss: 0.5102 - categorical_accuracy: 0.8606 - val_loss: 1.3534 - val_categorical_accuracy: 0.5931\n",
            "Epoch 39/40\n",
            "4/4 [==============================] - 24s 6s/step - loss: 0.4751 - categorical_accuracy: 0.8558 - val_loss: 1.4585 - val_categorical_accuracy: 0.5588\n",
            "Epoch 40/40\n",
            "4/4 [==============================] - 24s 6s/step - loss: 0.4814 - categorical_accuracy: 0.8269 - val_loss: 1.4214 - val_categorical_accuracy: 0.5441\n"
          ]
        }
      ]
    },
    {
      "cell_type": "code",
      "source": [
        "import pandas as pd\n",
        "import matplotlib.pyplot as plt\n",
        "\n",
        "history_frame = pd.DataFrame(history.history)\n",
        "history_frame.loc[:, ['loss', 'val_loss']].plot()\n",
        "history_frame.loc[:, ['categorical_accuracy', 'val_categorical_accuracy']].plot();\n",
        "plt.savefig('Custom_convnet2.png')"
      ],
      "metadata": {
        "id": "CF6a5E9DHhnU",
        "colab": {
          "base_uri": "https://localhost:8080/",
          "height": 577
        },
        "outputId": "c33f0f82-10a7-4561-8b0c-60b309f0363c"
      },
      "execution_count": null,
      "outputs": [
        {
          "output_type": "display_data",
          "data": {
            "text/plain": [
              "<Figure size 432x288 with 1 Axes>"
            ],
            "image/png": "[encoded data removed]"
          },
          "metadata": {
            "needs_background": "light"
          }
        },
        {
          "output_type": "display_data",
          "data": {
            "text/plain": [
              "<Figure size 432x288 with 1 Axes>"
            ],
            "image/png": "[encoded data removed]"
          },
          "metadata": {
            "needs_background": "light"
          }
        }
      ]
    },
    {
      "cell_type": "markdown",
      "source": [
        "### 2.1.3 Data Augmentation"
      ],
      "metadata": {
        "id": "6BBkimISkJLu"
      }
    },
    {
      "cell_type": "markdown",
      "source": [
        "A model can always be improved with more training data, but there are realistic limitations to how much is available. We know that some of the available data must also be kept for validation after training. Data augmentation provides a way to get more out of the available data by changing the images in different ways in order to give the model more information and hopefully increase its learning of the dataset. Three types of data augmentation were used: horizontal flipping, contrasting, and widening the images. "
      ],
      "metadata": {
        "id": "EAFNNzKcBrPk"
      }
    },
    {
      "cell_type": "code",
      "source": [
        "# Add data augmentation to increase data set\n",
        "# Completed with the GPU to speed up training\n",
        "\n",
        "import os, warnings\n",
        "import matplotlib.pyplot as plt\n",
        "from matplotlib import gridspec\n",
        "\n",
        "import numpy as np\n",
        "import tensorflow as tf\n",
        "from tensorflow.keras.preprocessing import image_dataset_from_directory\n",
        "\n",
        "#Reproducability\n",
        "def set_seed(seed=31415):\n",
        "  np.random.seed(seed)\n",
        "  tf.random.set_seed(seed)\n",
        "  os.environ['PYTHONHASHSEED'] = str(seed)\n",
        "  os.environ['TF_DETERMINISTIC_OPS'] = '1'\n",
        "set_seed()\n",
        "\n",
        "# Matplotlib defaults\n",
        "plt.rc('figure', autolayout=True)\n",
        "plt.rc('axes', labelweight='bold', labelsize='large',\n",
        "       titleweight='bold', titlesize=18, titlepad=10)\n",
        "plt.rc('image', cmap='magma')\n",
        "warnings.filterwarnings(\"ignore\") "
      ],
      "metadata": {
        "id": "uKW-DVO8HuUB"
      },
      "execution_count": null,
      "outputs": []
    },
    {
      "cell_type": "code",
      "source": [
        "# Load training and validation sets\n",
        "ds_train_ = image_dataset_from_directory(\n",
        "     '/content/Yoga/data/Yoga_images/train',\n",
        "     labels=\"inferred\",\n",
        "     label_mode='categorical',\n",
        "     image_size=[128, 128],\n",
        "     interpolation='nearest',\n",
        "     batch_size=64,\n",
        "     shuffle=True,\n",
        ")\n",
        "\n",
        "ds_valid_ = image_dataset_from_directory(\n",
        "     '/content/Yoga/data/Yoga_images/valid',\n",
        "     labels=\"inferred\",\n",
        "     label_mode='categorical',\n",
        "     image_size=[128, 128],\n",
        "     interpolation='nearest',\n",
        "     batch_size=64,\n",
        "     shuffle=False,\n",
        ")\n",
        "\n",
        "# Data pipeline\n",
        "def convert_to_float(image, label):\n",
        "  image = tf.image.convert_image_dtype(image, dtype=tf.float32)\n",
        "  return image, label\n",
        "\n",
        "AUTOTUNE = tf.data.experimental.AUTOTUNE\n",
        "ds_train = (\n",
        "    ds_train_\n",
        "    .map(convert_to_float)\n",
        "    .cache()\n",
        "    .prefetch(buffer_size=AUTOTUNE)\n",
        ")\n",
        "ds_valid = (\n",
        "    ds_valid_\n",
        "    .map(convert_to_float)\n",
        "    .cache()\n",
        "    .prefetch(buffer_size=AUTOTUNE)\n",
        ")"
      ],
      "metadata": {
        "id": "tuF20ba4KpB5",
        "colab": {
          "base_uri": "https://localhost:8080/"
        },
        "outputId": "98a29c71-321b-4354-f1b0-3e213896488b"
      },
      "execution_count": null,
      "outputs": [
        {
          "output_type": "stream",
          "name": "stdout",
          "text": [
            "Found 208 files belonging to 5 classes.\n",
            "Found 204 files belonging to 5 classes.\n"
          ]
        }
      ]
    },
    {
      "cell_type": "code",
      "source": [
        "# Load pretrained model\n",
        "pretrained_model = tf.keras.applications.MobileNetV2(input_shape = (128, 128, 3), include_top = False,\n",
        "                                                     weights = 'imagenet', pooling = 'avg')\n",
        "pretrained_model.trainable = False\n",
        "\n",
        "# Attach head\n",
        "from tensorflow import keras\n",
        "from tensorflow.keras import layers\n",
        "from tensorflow.keras.layers.experimental import preprocessing\n",
        "\n",
        "model = keras.Sequential([\n",
        "      preprocessing.RandomFlip('horizontal'), #vertical flip doesn't make sense\n",
        "      preprocessing.RandomContrast(0.5), \n",
        "      preprocessing.RandomWidth(factor=0.15),\n",
        "      pretrained_model,\n",
        "      layers.Flatten(),\n",
        "      layers.Dense(256, activation = 'relu'),\n",
        "      layers.Dense(5, activation = 'softmax')\n",
        "  ])"
      ],
      "metadata": {
        "id": "RwNb4UODLN7t"
      },
      "execution_count": null,
      "outputs": []
    },
    {
      "cell_type": "code",
      "source": [
        "# Train model with data augmentation\n",
        "import tensorflow as tf\n",
        "\n",
        "model.compile(\n",
        "    optimizer=tf.keras.optimizers.Adam(epsilon=0.01),\n",
        "    loss='categorical_crossentropy',\n",
        "    metrics=['categorical_accuracy']\n",
        ")\n",
        "\n",
        "history = model.fit(\n",
        "    ds_train,\n",
        "    validation_data=ds_valid,\n",
        "    epochs=30,\n",
        "    verbose=1\n",
        ")"
      ],
      "metadata": {
        "id": "Un8w3E4xML-z",
        "colab": {
          "base_uri": "https://localhost:8080/"
        },
        "outputId": "5792eb53-c022-4c3d-f0d1-7390af3e56cb"
      },
      "execution_count": null,
      "outputs": [
        {
          "output_type": "stream",
          "name": "stdout",
          "text": [
            "Epoch 1/30\n"
          ]
        },
        {
          "output_type": "stream",
          "name": "stderr",
          "text": [
            "WARNING:tensorflow:Using a while_loop for converting RngReadAndSkip\n",
            "WARNING:tensorflow:Using a while_loop for converting Bitcast\n",
            "WARNING:tensorflow:Using a while_loop for converting Bitcast\n",
            "WARNING:tensorflow:Using a while_loop for converting StatelessRandomUniformFullIntV2\n",
            "WARNING:tensorflow:Using a while_loop for converting StatelessRandomGetKeyCounter\n",
            "WARNING:tensorflow:Using a while_loop for converting StatelessRandomUniformV2\n",
            "WARNING:tensorflow:Using a while_loop for converting AdjustContrastv2\n",
            "WARNING:tensorflow:Using a while_loop for converting RngReadAndSkip\n",
            "WARNING:tensorflow:Using a while_loop for converting Bitcast\n",
            "WARNING:tensorflow:Using a while_loop for converting Bitcast\n",
            "WARNING:tensorflow:Using a while_loop for converting StatelessRandomUniformFullIntV2\n",
            "WARNING:tensorflow:Using a while_loop for converting StatelessRandomGetKeyCounter\n",
            "WARNING:tensorflow:Using a while_loop for converting StatelessRandomUniformV2\n",
            "WARNING:tensorflow:Using a while_loop for converting AdjustContrastv2\n",
            "WARNING:tensorflow:Using a while_loop for converting RngReadAndSkip\n",
            "WARNING:tensorflow:Using a while_loop for converting Bitcast\n",
            "WARNING:tensorflow:Using a while_loop for converting Bitcast\n",
            "WARNING:tensorflow:Using a while_loop for converting StatelessRandomUniformFullIntV2\n",
            "WARNING:tensorflow:Using a while_loop for converting StatelessRandomGetKeyCounter\n",
            "WARNING:tensorflow:Using a while_loop for converting StatelessRandomUniformV2\n",
            "WARNING:tensorflow:Using a while_loop for converting AdjustContrastv2\n"
          ]
        },
        {
          "output_type": "stream",
          "name": "stdout",
          "text": [
            "4/4 [==============================] - 10s 1s/step - loss: 2.0870 - categorical_accuracy: 0.1971 - val_loss: 1.8123 - val_categorical_accuracy: 0.2696\n",
            "Epoch 2/30\n",
            "4/4 [==============================] - 4s 1s/step - loss: 1.6883 - categorical_accuracy: 0.2885 - val_loss: 1.5470 - val_categorical_accuracy: 0.3578\n",
            "Epoch 3/30\n",
            "4/4 [==============================] - 4s 1s/step - loss: 1.3784 - categorical_accuracy: 0.3942 - val_loss: 1.3151 - val_categorical_accuracy: 0.4853\n",
            "Epoch 4/30\n",
            "4/4 [==============================] - 4s 1s/step - loss: 1.0448 - categorical_accuracy: 0.6490 - val_loss: 1.1133 - val_categorical_accuracy: 0.6176\n",
            "Epoch 5/30\n",
            "4/4 [==============================] - 4s 1s/step - loss: 0.7939 - categorical_accuracy: 0.8173 - val_loss: 0.9685 - val_categorical_accuracy: 0.6814\n",
            "Epoch 6/30\n",
            "4/4 [==============================] - 4s 1s/step - loss: 0.6247 - categorical_accuracy: 0.8750 - val_loss: 0.8428 - val_categorical_accuracy: 0.7206\n",
            "Epoch 7/30\n",
            "4/4 [==============================] - 4s 1s/step - loss: 0.4677 - categorical_accuracy: 0.9135 - val_loss: 0.7455 - val_categorical_accuracy: 0.7549\n",
            "Epoch 8/30\n",
            "4/4 [==============================] - 4s 1s/step - loss: 0.4381 - categorical_accuracy: 0.9231 - val_loss: 0.6801 - val_categorical_accuracy: 0.7647\n",
            "Epoch 9/30\n",
            "4/4 [==============================] - 4s 1s/step - loss: 0.3550 - categorical_accuracy: 0.9327 - val_loss: 0.6378 - val_categorical_accuracy: 0.7794\n",
            "Epoch 10/30\n",
            "4/4 [==============================] - 4s 1s/step - loss: 0.2654 - categorical_accuracy: 0.9712 - val_loss: 0.6067 - val_categorical_accuracy: 0.7941\n",
            "Epoch 11/30\n",
            "4/4 [==============================] - 4s 1s/step - loss: 0.2517 - categorical_accuracy: 0.9567 - val_loss: 0.5784 - val_categorical_accuracy: 0.7941\n",
            "Epoch 12/30\n",
            "4/4 [==============================] - 4s 1s/step - loss: 0.2106 - categorical_accuracy: 0.9615 - val_loss: 0.5486 - val_categorical_accuracy: 0.7990\n",
            "Epoch 13/30\n",
            "4/4 [==============================] - 4s 1s/step - loss: 0.1681 - categorical_accuracy: 0.9663 - val_loss: 0.5246 - val_categorical_accuracy: 0.8088\n",
            "Epoch 14/30\n",
            "4/4 [==============================] - 4s 1s/step - loss: 0.1716 - categorical_accuracy: 0.9808 - val_loss: 0.5041 - val_categorical_accuracy: 0.8284\n",
            "Epoch 15/30\n",
            "4/4 [==============================] - 5s 1s/step - loss: 0.1706 - categorical_accuracy: 0.9663 - val_loss: 0.4884 - val_categorical_accuracy: 0.8284\n",
            "Epoch 16/30\n",
            "4/4 [==============================] - 4s 1s/step - loss: 0.1481 - categorical_accuracy: 0.9663 - val_loss: 0.4806 - val_categorical_accuracy: 0.8382\n",
            "Epoch 17/30\n",
            "4/4 [==============================] - 4s 1s/step - loss: 0.1230 - categorical_accuracy: 0.9760 - val_loss: 0.4702 - val_categorical_accuracy: 0.8333\n",
            "Epoch 18/30\n",
            "4/4 [==============================] - 4s 1s/step - loss: 0.1062 - categorical_accuracy: 0.9856 - val_loss: 0.4621 - val_categorical_accuracy: 0.8333\n",
            "Epoch 19/30\n",
            "4/4 [==============================] - 4s 1s/step - loss: 0.1203 - categorical_accuracy: 0.9856 - val_loss: 0.4577 - val_categorical_accuracy: 0.8431\n",
            "Epoch 20/30\n",
            "4/4 [==============================] - 4s 1s/step - loss: 0.0816 - categorical_accuracy: 0.9952 - val_loss: 0.4545 - val_categorical_accuracy: 0.8431\n",
            "Epoch 21/30\n",
            "4/4 [==============================] - 4s 1s/step - loss: 0.0925 - categorical_accuracy: 0.9808 - val_loss: 0.4528 - val_categorical_accuracy: 0.8480\n",
            "Epoch 22/30\n",
            "4/4 [==============================] - 4s 1s/step - loss: 0.0908 - categorical_accuracy: 0.9856 - val_loss: 0.4471 - val_categorical_accuracy: 0.8480\n",
            "Epoch 23/30\n",
            "4/4 [==============================] - 4s 1s/step - loss: 0.0799 - categorical_accuracy: 0.9904 - val_loss: 0.4374 - val_categorical_accuracy: 0.8480\n",
            "Epoch 24/30\n",
            "4/4 [==============================] - 4s 1s/step - loss: 0.0942 - categorical_accuracy: 0.9904 - val_loss: 0.4309 - val_categorical_accuracy: 0.8529\n",
            "Epoch 25/30\n",
            "4/4 [==============================] - 4s 1s/step - loss: 0.0836 - categorical_accuracy: 0.9904 - val_loss: 0.4302 - val_categorical_accuracy: 0.8529\n",
            "Epoch 26/30\n",
            "4/4 [==============================] - 4s 1s/step - loss: 0.0847 - categorical_accuracy: 0.9952 - val_loss: 0.4306 - val_categorical_accuracy: 0.8578\n",
            "Epoch 27/30\n",
            "4/4 [==============================] - 4s 1s/step - loss: 0.0750 - categorical_accuracy: 0.9952 - val_loss: 0.4311 - val_categorical_accuracy: 0.8578\n",
            "Epoch 28/30\n",
            "4/4 [==============================] - 4s 1s/step - loss: 0.0796 - categorical_accuracy: 0.9856 - val_loss: 0.4293 - val_categorical_accuracy: 0.8578\n",
            "Epoch 29/30\n",
            "4/4 [==============================] - 4s 1s/step - loss: 0.0588 - categorical_accuracy: 1.0000 - val_loss: 0.4265 - val_categorical_accuracy: 0.8578\n",
            "Epoch 30/30\n",
            "4/4 [==============================] - 4s 1s/step - loss: 0.0740 - categorical_accuracy: 1.0000 - val_loss: 0.4244 - val_categorical_accuracy: 0.8676\n"
          ]
        }
      ]
    },
    {
      "cell_type": "code",
      "source": [
        "import pandas as pd\n",
        "import matplotlib.pyplot as plt\n",
        "\n",
        "history_frame = pd.DataFrame(history.history)\n",
        "history_frame.loc[:, ['loss', 'val_loss']].plot()\n",
        "history_frame.loc[:, ['categorical_accuracy', 'val_categorical_accuracy']].plot();\n",
        "plt.savefig('Data_augmentation.png')"
      ],
      "metadata": {
        "id": "YIV_K_icMWb7",
        "colab": {
          "base_uri": "https://localhost:8080/",
          "height": 577
        },
        "outputId": "91ca4759-aedd-4c54-ce31-7f9f21370b5d"
      },
      "execution_count": null,
      "outputs": [
        {
          "output_type": "display_data",
          "data": {
            "text/plain": [
              "<Figure size 432x288 with 1 Axes>"
            ],
            "image/png": "[encoded data removed]"
          },
          "metadata": {
            "needs_background": "light"
          }
        },
        {
          "output_type": "display_data",
          "data": {
            "text/plain": [
              "<Figure size 432x288 with 1 Axes>"
            ],
            "image/png": "[encoded data removed]"
          },
          "metadata": {
            "needs_background": "light"
          }
        }
      ]
    },
    {
      "cell_type": "markdown",
      "source": [
        "### 2.2 YOLOv5 (Run on GPU for efficiency)"
      ],
      "metadata": {
        "id": "j6UDEx2BujWW"
      }
    },
    {
      "cell_type": "markdown",
      "source": [
        "The YOLOv5 model (You Only Look Once) was used on the yoga pose images to evaluate accuracy of identification. \n",
        "Images fed into the model need to be pre-labelled with bounding boxes to identify where the image(s) are. This was done through Roboflow (roboflow.com) which also allows the user to split the images into train and valid classes (and test if desired). Through the code below, annotated images where downloaded into Google Colab for analysis. "
      ],
      "metadata": {
        "id": "iqEhJef65crA"
      }
    },
    {
      "cell_type": "code",
      "source": [
        "# clone YOLOv5 repository\n",
        "\n",
        "!git clone https://github.com/ultralytics/yolov5  \n",
        "%cd yolov5\n",
        "!git reset --hard fbe67e465375231474a2ad80a4389efc77ecff99"
      ],
      "metadata": {
        "id": "pwjn06FLvB-8"
      },
      "execution_count": null,
      "outputs": []
    },
    {
      "cell_type": "code",
      "source": [
        "#install dependencies \n",
        "!pip install -qr requirements.txt\n",
        "import torch\n",
        "\n",
        "from IPython.display import Image, clear_output\n",
        "from utils.downloads import attempt_download\n",
        "\n",
        "#clear output()\n",
        "print('Setup complete. Using torch %s %s' % (torch.__version__, torch.cuda.get_device_properties(0) if torch.cuda.is_available() else 'CPU'))"
      ],
      "metadata": {
        "colab": {
          "base_uri": "https://localhost:8080/"
        },
        "id": "3Q-edphgvEzD",
        "outputId": "4559719a-1a7b-4c4f-ab01-75b4b3bd3c9f"
      },
      "execution_count": null,
      "outputs": [
        {
          "output_type": "stream",
          "name": "stdout",
          "text": [
            "\u001b[?25l     \u001b[90m━━━━━━━━━━━━━━━━━━━━━━━━━━━━━━━━━━━━━━━━\u001b[0m \u001b[32m0.0/1.6 MB\u001b[0m \u001b[31m?\u001b[0m eta \u001b[36m-:--:--\u001b[0m\r\u001b[2K     \u001b[91m━━━━━━━━━━━━━━━━━━━━━━━━━━━━\u001b[0m\u001b[91m╸\u001b[0m\u001b[90m━━━━━━━━━━━\u001b[0m \u001b[32m1.1/1.6 MB\u001b[0m \u001b[31m33.0 MB/s\u001b[0m eta \u001b[36m0:00:01\u001b[0m\r\u001b[2K     \u001b[90m━━━━━━━━━━━━━━━━━━━━━━━━━━━━━━━━━━━━━━━━\u001b[0m \u001b[32m1.6/1.6 MB\u001b[0m \u001b[31m27.0 MB/s\u001b[0m eta \u001b[36m0:00:00\u001b[0m\n",
            "\u001b[?25hSetup complete. Using torch 1.13.1+cu116 _CudaDeviceProperties(name='Tesla T4', major=7, minor=5, total_memory=15109MB, multi_processor_count=40)\n"
          ]
        }
      ]
    },
    {
      "cell_type": "code",
      "source": [
        "#get dataset (annotated) from Roboflow\n",
        "!pip install -q roboflow\n",
        "from roboflow import Roboflow\n",
        "rf = Roboflow(model_format=\"yolov5\", notebook='roboflow/ha-data-science/yolov5_yoga')"
      ],
      "metadata": {
        "id": "rArNcSilvIWJ"
      },
      "execution_count": null,
      "outputs": []
    },
    {
      "cell_type": "code",
      "source": [
        "%pwd"
      ],
      "metadata": {
        "colab": {
          "base_uri": "https://localhost:8080/",
          "height": 35
        },
        "id": "nR5rcqA-vLaS",
        "outputId": "7fc9db37-7207-4c08-aab8-35333aa86e35"
      },
      "execution_count": null,
      "outputs": [
        {
          "output_type": "execute_result",
          "data": {
            "text/plain": [
              "'/content/yolov5'"
            ],
            "application/vnd.google.colaboratory.intrinsic+json": {
              "type": "string"
            }
          },
          "metadata": {},
          "execution_count": 4
        }
      ]
    },
    {
      "cell_type": "code",
      "source": [
        "!pip install roboflow\n",
        "\n",
        "from roboflow import Roboflow\n",
        "rf = Roboflow(api_key=\"6MNv6VhbcvTrxKeaaXjG\")\n",
        "project = rf.workspace().project(\"yolov5_yoga\")\n",
        "dataset = project.version(2).download(\"yolov5\")"
      ],
      "metadata": {
        "id": "zn8Kb3gxvNMN"
      },
      "execution_count": null,
      "outputs": []
    },
    {
      "cell_type": "code",
      "source": [
        "#YAML file written by Roboflow\n",
        "#loading into notebook with data\n",
        "\n",
        "%cat /content/yolov5/Yolov5_yoga-2/data.yaml"
      ],
      "metadata": {
        "id": "TaQDsEEZvQLV"
      },
      "execution_count": null,
      "outputs": []
    },
    {
      "cell_type": "code",
      "source": [
        "# Define model configuration\n",
        "# Define number of classes based on YAML\n",
        "import yaml\n",
        "with open(dataset.location + \"/data.yaml\", 'r') as stream:\n",
        "  num_classes = str(yaml.safe_load(stream)['nc'])"
      ],
      "metadata": {
        "id": "A6pjhg5HvY7j"
      },
      "execution_count": null,
      "outputs": []
    },
    {
      "cell_type": "code",
      "source": [
        "# this is the model configuration \n",
        "%cat /content/yolov5/models/yolov5s.yaml"
      ],
      "metadata": {
        "id": "ZpuxRA85vay_"
      },
      "execution_count": null,
      "outputs": []
    },
    {
      "cell_type": "code",
      "source": [
        "# Customize iPython writefile so we can write variables\n",
        "from IPython.core.magic import register_line_cell_magic\n",
        "\n",
        "@register_line_cell_magic\n",
        "def writetemplate(line, cell):\n",
        "  with open(line, 'w') as f:\n",
        "    f.write(cell.format(**globals()))"
      ],
      "metadata": {
        "id": "u3IahDsvvdQZ"
      },
      "execution_count": null,
      "outputs": []
    },
    {
      "cell_type": "code",
      "source": [
        "%%writetemplate /content/yolov5/models/custom_yolov5s.yaml\n",
        "\n",
        "#parameters\n",
        "nc: {num_classes}\n",
        "depth_multiple: 0.33\n",
        "width_multiple: 0.50\n",
        "\n",
        "#anchors\n",
        "anchors:\n",
        "   -[10,13, 16,30, 33,23]\n",
        "   -[30,61, 62,45, 59,119]\n",
        "   -[116,90 156,198, 373,326]\n",
        "\n",
        "#YOLOv5 backbone\n",
        "backbone:\n",
        "  # [from, number, module, args]\n",
        "  [[-1, 1, Focus, [64, 3]],  \n",
        "   [-1, 1, Conv, [128, 3, 2]],  \n",
        "   [-1, 3, BottleneckCSP, [128]],\n",
        "   [-1, 1, Conv, [256, 3, 2]],  \n",
        "   [-1, 9, BottleneckCSP, [256]],\n",
        "   [-1, 1, Conv, [512, 3, 2]],  \n",
        "   [-1, 9, BottleneckCSP, [512]],\n",
        "   [-1, 1, Conv, [1024, 3, 2]],  \n",
        "   [-1, 1, SPP, [1024, [5, 9, 13]]],\n",
        "   [-1, 3, BottleneckCSP, [1024, False]],  \n",
        "  ]\n",
        "\n",
        "# YOLOv5 head\n",
        "head:\n",
        "  [[-1, 1, Conv, [512, 1, 1]],\n",
        "   [-1, 1, nn.Upsample, [None, 2, 'nearest']],\n",
        "   [[-1, 6], 1, Concat, [1]],  \n",
        "   [-1, 3, BottleneckCSP, [512, False]],  \n",
        "\n",
        "   [-1, 1, Conv, [256, 1, 1]],\n",
        "   [-1, 1, nn.Upsample, [None, 2, 'nearest']],\n",
        "   [[-1, 4], 1, Concat, [1]],  \n",
        "   [-1, 3, BottleneckCSP, [256, False]],  \n",
        "\n",
        "   [-1, 1, Conv, [256, 3, 2]],\n",
        "   [[-1, 14], 1, Concat, [1]],  \n",
        "   [-1, 3, BottleneckCSP, [512, False]],  \n",
        "\n",
        "   [-1, 1, Conv, [512, 3, 2]],\n",
        "   [[-1, 10], 1, Concat, [1]],  \n",
        "   [-1, 3, BottleneckCSP, [1024, False]],  \n",
        "\n",
        "   [[17, 20, 23], 1, Detect, [nc, anchors]],  \n",
        "  ]"
      ],
      "metadata": {
        "id": "W7Uc69ynviVY"
      },
      "execution_count": null,
      "outputs": []
    },
    {
      "cell_type": "code",
      "source": [
        "# Train custom YOLOv5\n",
        "%pwd"
      ],
      "metadata": {
        "colab": {
          "base_uri": "https://localhost:8080/",
          "height": 35
        },
        "id": "Jxqus2osvjFi",
        "outputId": "3c2b81d6-1ba3-46cd-b291-d98fd51e0331"
      },
      "execution_count": null,
      "outputs": [
        {
          "output_type": "execute_result",
          "data": {
            "text/plain": [
              "'/content/yolov5'"
            ],
            "application/vnd.google.colaboratory.intrinsic+json": {
              "type": "string"
            }
          },
          "metadata": {},
          "execution_count": 11
        }
      ]
    },
    {
      "cell_type": "code",
      "source": [
        "# Train yolov5 on custom data for 30 epochs\n",
        "# Time performance\n",
        "# Run with GPU\n",
        "\n",
        "%%time\n",
        "%cd /content/yolov5/\n",
        "!python train.py --img 416 --rect --batch 16 --epochs 30 --data /content/yolov5/Yolov5_yoga-2/data.yaml --weights yolov5s.pt  --cache  "
      ],
      "metadata": {
        "id": "zkuEbHBUvqkw"
      },
      "execution_count": null,
      "outputs": []
    },
    {
      "cell_type": "code",
      "source": [
        "# Test the model\n",
        "%pwd"
      ],
      "metadata": {
        "colab": {
          "base_uri": "https://localhost:8080/",
          "height": 35
        },
        "id": "tvSTTJB5vv1K",
        "outputId": "e44f42f7-1cbb-4edf-d226-b5fcf6bcca94"
      },
      "execution_count": null,
      "outputs": [
        {
          "output_type": "execute_result",
          "data": {
            "text/plain": [
              "'/content/yolov5'"
            ],
            "application/vnd.google.colaboratory.intrinsic+json": {
              "type": "string"
            }
          },
          "metadata": {},
          "execution_count": 13
        }
      ]
    },
    {
      "cell_type": "code",
      "source": [
        "# Need to update the 'weights' path according to previous run(s) and source path\n",
        "# 'Run' folder will appear after the first round of training\n",
        "\n",
        "!python detect.py --weights runs/train/exp2/weights/best.pt --img 416 --conf 0.1 --source /content/yolov5/Yolov5_yoga-2/valid/images"
      ],
      "metadata": {
        "id": "lRnTj6jYv07g"
      },
      "execution_count": null,
      "outputs": []
    },
    {
      "cell_type": "code",
      "source": [
        "# Display results \n",
        "# Check path depending on run number\n",
        "\n",
        "display(Image(filename='/content/yolov5/runs/train/exp/results.png'))"
      ],
      "metadata": {
        "id": "lRBmcXSKv-EB"
      },
      "execution_count": null,
      "outputs": []
    },
    {
      "cell_type": "code",
      "source": [
        "!python /content/yolov5/val.py --weights /content/yolov5/runs/train/exp2/weights/best.pt --data /content/yolov5/Yolov5_yoga-2/data.yaml --img 640"
      ],
      "metadata": {
        "id": "kYwosFy4NSqw"
      },
      "execution_count": null,
      "outputs": []
    },
    {
      "cell_type": "code",
      "source": [
        "# View confusion matrix\n",
        "# Change path according to 'results saved' location as stated in previous line of execution \n",
        "display(Image(filename='/content/yolov5/runs/val/exp4/confusion_matrix.png'))"
      ],
      "metadata": {
        "id": "EANO1SEaOpJG"
      },
      "execution_count": null,
      "outputs": []
    },
    {
      "cell_type": "markdown",
      "source": [
        "## 03 RESULTS"
      ],
      "metadata": {
        "id": "Yx3l-HzTpaF8"
      }
    },
    {
      "cell_type": "markdown",
      "source": [
        "The models output graphs which can demonstrate model performance and allow analysis of the model performance. "
      ],
      "metadata": {
        "id": "dZqziwjzLW8v"
      }
    },
    {
      "cell_type": "code",
      "source": [
        "from IPython.display import Image, clear_output\n",
        "display(Image(filename='Basic_Tensorflow_output.png'))"
      ],
      "metadata": {
        "id": "UI7PeZO8IbaX"
      },
      "execution_count": null,
      "outputs": []
    },
    {
      "cell_type": "markdown",
      "source": [
        "Using the basic Tensorflow model set for 30 epochs, we can see from the image above that significant gains were made after 5 epochs. This is a signal of how quickly the pretrained base learns and after only a few epochs it is using its previous knowledge to quickly learn from its new dataset. The categorical accuracy and the validation accuracy both plateau after around 5 epochs. The validation accuracy hovers between 0.85 and 0.9. Since the validation accuracy is not decreasing after 30 epochs there has not been enough time for the model to start overfitting and reading too much noise from the training set. "
      ],
      "metadata": {
        "id": "klB0u81XDRfF"
      }
    },
    {
      "cell_type": "code",
      "source": [
        "from IPython.display import Image, clear_output\n",
        "display(Image(filename='Custom_convnet1.png'))\n",
        "display(Image(filename='Custom_convnet2.png'))"
      ],
      "metadata": {
        "id": "V2otlF16MQUi"
      },
      "execution_count": null,
      "outputs": []
    },
    {
      "cell_type": "markdown",
      "source": [
        "The figures above show the output of a custom convnet with three blocks of a conv2D and maxpool2D layer. The highest validation categorical accuracy reached was 0.64. The categorical accuracy went between 0.9 - 1.0. When more layers were added to the second and third blocks of the network, the computing time took almost 4 times as long (6 minutes vs. 22 minutes) and the highest validation categorical accuracy was 0.60. The categorical accuracy was above 0.8, but did not stay above 0.9. The addition of these extra layers and the extra computing time lowers the desired result and therefore does not contribute in a beneficial manner. "
      ],
      "metadata": {
        "id": "HnlG_H23MmWo"
      }
    },
    {
      "cell_type": "code",
      "source": [
        "from IPython.display import Image, clear_output\n",
        "display(Image(filename='Data_augmentation.png'))"
      ],
      "metadata": {
        "id": "0HFIXAFlQfIL"
      },
      "execution_count": null,
      "outputs": []
    },
    {
      "cell_type": "markdown",
      "source": [
        "The data augmentation showed a clear improvement to the model output. This model change was performed while using a pretrained base. Beginning with two adaptations of horizontal flip and contrast at 10 epochs, the validation categorical accuracy reached 0.82. At 30 epochs it reached 0.90. When the extra change of width was added, the highest validation categorical accuracy was 0.87. The image above shows output when all three were used. "
      ],
      "metadata": {
        "id": "EfD-3uaPR6Qm"
      }
    },
    {
      "cell_type": "code",
      "source": [
        "# View confusion matrix\n",
        "# Change path according to 'results saved' location as stated in previous line of execution \n",
        "display(Image(filename='/content/yolov5/runs/val/exp4/confusion_matrix.png'))"
      ],
      "metadata": {
        "id": "Rl5Q-0zxUJAy"
      },
      "execution_count": null,
      "outputs": []
    },
    {
      "cell_type": "markdown",
      "source": [
        "The confusion matrix produced from the YOLOv5 results show many background false negatives and only some proper identifications. Examining a selection of the output images from this model, it was apparent that there were also mis-identifications along with correct predictions. The correct predictions made by the model were done with high certainty, and the incorrect predictions were done with low certainty. Worse would be if the model was very certain about an incorrect prediction. "
      ],
      "metadata": {
        "id": "8G2b12ptUJ3F"
      }
    },
    {
      "cell_type": "markdown",
      "source": [
        "## 04 DISCUSSION"
      ],
      "metadata": {
        "id": "edk_Q_aNpdC-"
      }
    },
    {
      "cell_type": "markdown",
      "source": [
        "There are many parameters than can be adapted in both models presented. Based on the results thus far, the pretrained base appeared to have great advantages over the custom-made network, even with the addition of layers. The learning time was faster and the computing time was lower. Many more adaptations can be made, including finding the ideal number of epochs using early stopping upon assessment of plateaued gains. Data augmentation with the pretrained model proved useful, and also had many more parameters that could be adjusted. Augmentations to the data should be done wisely in order to contribute appropriately. For example, a vertical flip of the data will yield a yoga pose done upside down which is not realistic. \n",
        "For the amount of data provided, the pretrained base on the Tensorflow model yielded better results than the YOLOv5. The latter model also has the extra step of creating bounding boxes on the images as a preprocessing step before analysis, adding extra time. As YOLO is a promising method in machine learning, it is worth testing again with more images. Some models of this type use more than 3000 images, showing the amount of data needed. \n",
        "In this analysis we tested the models on 5 classes of yoga poses. In reality, there are many more than that and with the goal being assisting a yoga practicioner at home, their practice would be consisting of more than 5 different poses. If more data were given per class, the YOLO model might prove advantageous to allocate to so many different classes. \n",
        "Once such a model was produced, the future use of such predictions would need to feedback to the participant. This could perhaps be done through an on-screen signal when they were in the correct position, a verbal affirmation, a verbal correction, or a signal coming from another device such as an Apple Watch. This would be an important next step in bringing the technology to a wide market and to be useful for people in their homes. \n",
        "People are thinking more about their health and wellbeing and how to include healthy habits, such as eating well and exercising, into their daily lives. These goals are often well-intended and sometimes hard to execute. If technology can assist the wider public in achieving part of their intentions, then it could be making very valuable contributions to many people.  "
      ],
      "metadata": {
        "id": "bEkSuerIWbBX"
      }
    },
    {
      "cell_type": "markdown",
      "source": [
        "## 05 LITERATURE\n",
        "\n",
        "Gajbhiye, R., Jarag, S., Gaikwad, P. and Koparde, S., 2022. AI Human Pose Estimation: Yoga Pose Detection and Correction. International Journal of Innovative Science and Research Technology.\n",
        "\n",
        "Hartley, L., Dyakova, M., Holmes, J., Clarke, A., Lee, M.S., Ernst, E. and Rees, K., 2014. Yoga for the primary prevention of cardiovascular disease. Cochrane Database of Systematic Reviews, (5).\n",
        "\n",
        "Matko, K., Berghöfer, A., Jeitler, M., Sedlmeier, P. and Bringmann, H.C., 2022. Who benefits most? Interactions between personality traits and outcomes of four incremental meditation and yoga treatments. Journal of Clinical Medicine, 11(15), p.4553.\n"
      ],
      "metadata": {
        "id": "EuLpz8Ltpg0m"
      }
    }
  ]
}